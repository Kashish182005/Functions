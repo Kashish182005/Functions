{
  "nbformat": 4,
  "nbformat_minor": 0,
  "metadata": {
    "colab": {
      "provenance": []
    },
    "kernelspec": {
      "name": "python3",
      "display_name": "Python 3"
    },
    "language_info": {
      "name": "python"
    }
  },
  "cells": [
    {
      "cell_type": "markdown",
      "source": [
        "#**THEORY QUESTIONS**\n"
      ],
      "metadata": {
        "id": "OZjsxuxgL9cO"
      }
    },
    {
      "cell_type": "markdown",
      "source": [
        "1. What is the difference between a function and a method in Python?\n",
        " - In Python, both functions and methods are blocks of reusable code that perform specific tasks. However, they are different in how they are defined and used, primarily based on the context in which they operate. Understanding the difference between a function and a method is important for writing efficient and organized code in Python.\n",
        " - A function in Python is a standalone block of code that is defined using the def keyword and can be called independently by its name. Functions can take inputs (called parameters), perform specific operations, and return outputs using the return statement. They are not associated with any particular object or class and can be used globally in a program.\n",
        " - In contrast, a method is a function that is associated with an object. It is defined within a class and is called on an instance (object) of that class. Methods operate on the data (attributes) that belong to the class and typically take self as their first parameter to refer to the instance calling the method.\n",
        "---\n",
        "2. Explain the concept of function arguments and parameters in Python.\n",
        " - In Python, function arguments and parameters are key concepts that help in making functions dynamic and reusable. While they are often used together, they have different roles in the function process.\n",
        " - Parameters are the names used in a function definition. They act as placeholders for the values that the function will receive when it is called. Think of parameters as the inputs that a function expects to perform its task. When a function is defined, we specify parameters so that the function knows what kind of information it should work with.\n",
        " - Arguments, on the other hand, are the actual values or data you provide to a function when you call it. These values are assigned to the corresponding parameters. In simple words, parameters are the “empty boxes” waiting to be filled, and arguments are the actual “items” we put inside those boxes.\n",
        " - Python allows different types of arguments:\n",
        "\n",
        "- Positional arguments are passed in the order in which parameters are defined.\n",
        "\n",
        "- Keyword arguments specify which parameter the value is for, making the function call more readable.\n",
        "\n",
        "- Default arguments let a function use a default value if no specific value is provided.\n",
        "\n",
        "- Variable-length arguments allow a function to accept a flexible number of values, which is useful when we don’t know how many arguments will be passed.\n",
        " - In conclusion, parameters are used when defining a function, while arguments are used when calling that function. This system of passing data makes functions powerful tools for handling a wide range of tasks with different inputs.\n",
        "---\n",
        "3. What are the different ways to define and call a function in Python?\n",
        " - In Python, functions can be defined and called in several different ways depending on the needs of your program. These flexible approaches allow you to write reusable, clean, and organized code.\n",
        " - Ways to Define a Function in Python:\n",
        " 1. Standard Function Definition:\n",
        " - This is the most common way to define a function using the def keyword followed by the function name and parentheses. It can include zero or more parameters.\n",
        " 2. Function with Parameters:\n",
        " - A function can be defined to accept one or more parameters. These parameters act as placeholders for the values that will be provided when the function is called.\n",
        " 3. Function with Default Parameters:\n",
        " - You can provide default values to parameters while defining a function. This means the function can be called even if some arguments are not provided.\n",
        "\n",
        " 4. Function with Variable-Length Arguments:\n",
        " - Python allows defining functions that accept any number of arguments. This is helpful when you're not sure how many inputs will be passed during the function call.\n",
        "\n",
        " 5. Lambda Function:\n",
        " - Also known as an anonymous function, a lambda function is defined in a single line and is typically used for small, simple tasks. It does not use the def keyword.\n",
        "---\n",
        "4.  What is the purpose of the `return` statement in a Python function?\n",
        " - The return statement in a Python function plays a very important role. It is used to send back a value from the function to the place where the function was called. When a function performs a task or calculation, the return statement allows the result of that task to be used elsewhere in the program.\n",
        "\n",
        " - The main purpose of the return statement is to provide output from a function. Without it, the function may perform actions like printing or modifying data, but it won’t give back any value to use in the rest of the program. Once the return statement is executed, the function stops running and the control goes back to the caller along with the returned value.\n",
        "\n",
        " - A function can return different types of data, such as numbers, strings, lists, or even multiple values. If no return statement is used in a function, it will return None by default.\n",
        "\n",
        " - In summary, the return statement is essential when a function needs to send results back to the caller, enabling more complex and useful operations in your code.\n",
        "---\n",
        "5. What are iterators in Python and how do they differ from iterables?\n",
        " - An iterable is any Python object that can return its elements one at a time. It contains a collection of items and can be used in a loop (like a for loop). Common examples of iterables include lists, tuples, strings, sets, and dictionaries. These objects have an internal method called __iter__() that allows them to return an iterator. In simple words, an iterable is something you can loop over.\n",
        " - An iterator is a special type of object that represents a stream of data. It is created from an iterable using the built-in iter() function. An iterator has a method called __next__() that returns the next item in the sequence each time it is called. When there are no more items, it raises a StopIteration error to signal that the data is finished. So, an iterator is the object that actually performs the iteration over the elements.\n",
        " - An iterable is like a book — you can read it page by page. An iterator is like a bookmark — it tells you where you are in the book and lets you read the next page. In Python, you typically use iterables in loops without needing to create iterators manually, but understanding both concepts helps in building custom loops and efficient data processing.\n",
        "---\n",
        "6. Explain the concept of generators in Python and how they are defined.\n",
        " - Generators are used to generate a sequence of values, but unlike regular functions that return a single result using the return statement, generators use the yield statement. When a generator function is called, it does not execute immediately. Instead, it returns a generator object that can be iterated over. Each time the generator's __next__() method is called (like in a loop), the function runs until it reaches a yield statement, which temporarily suspends the function and sends back a value. The state of the generator is saved between each call, so when the function resumes, it continues from where it left off, not from the beginning.\n",
        " - Generators are defined like normal functions, but instead of using return, they use yield to return a value.\n",
        "\n",
        "The function becomes a generator function if it contains the yield keyword.\n",
        "\n",
        "When you iterate over a generator, each yield provides the next value.\n",
        "\n",
        "Once all values have been generated, the generator raises a StopIteration signal.\n",
        "\n",
        "---\n",
        "\n",
        "7. What are the advantages of using generators over regular functions?\n",
        " - The use of generators in Python offers several important advantages over regular functions, especially when working with large datasets, long sequences, or streaming data. Some of them are:\n",
        " 1. Memory Efficiency:\n",
        "Generators do not store all the values in memory at once. Instead, they generate values one at a time and only when requested. This makes generators much more memory-efficient than regular functions, which return entire lists or collections at once.\n",
        " 2. Lazy Evaluation :\n",
        "Generators work on the principle of lazy evaluation, which means they produce values only when needed. This is helpful when processing large data or infinite sequences, as it avoids unnecessary computation and saves processing time.\n",
        " 3. Simpler Code for Iterators :\n",
        "Creating an iterator using a generator is much simpler and more readable than writing a full iterator class. With a regular function, you would need to manage the state manually, but a generator automatically keeps track of where it left off using the yield keyword.\n",
        " 4. Support for Infinite Sequences :\n",
        "Since generators yield values one at a time and don’t require all data to be stored at once, they are ideal for creating or working with infinite sequences like number series or data streams.\n",
        " 5. Faster Execution in Some Cases :\n",
        "Generators can provide faster results when you don’t need the entire output at once. For example, if you’re only interested in the first few items from a long list, a generator can stop early without processing the entire sequence.\n",
        "\n",
        "---\n",
        "\n",
        "8.  What is a lambda function in Python and when is it typically used?\n",
        " - A lambda function is used to perform simple operations in a single line of code. It can have any number of arguments but only one expression, which is evaluated and returned. Unlike regular functions, lambda functions do not contain multiple statements or complex logic.\n",
        " - Lambda functions are typically used when you need a short, temporary function for a small task, especially in situations where defining a full function would be unnecessary or make the code bulky. Common use cases include:\n",
        "- Used with Built-in Functions\n",
        "- Sorting and Custom Keys\n",
        "- Functional Programming\n",
        "- Event Handling or Callbacks\n",
        "\n",
        "---\n",
        "\n",
        "9. Explain the purpose and usage of the `map()` function in Python.\n",
        " - The map( ) function in Python is a built-in function that is used to apply a specific function to each item in an iterable (like a list, tuple, etc.) and return a new iterable (specifically, a map object) containing the results.\n",
        " - The main purpose of the map( ) function is to transform or modify all the elements of an iterable in a simple and efficient way. It helps in applying the same operation to multiple elements without writing an explicit loop.\n",
        " - The map( ) function is a powerful tool in Python for transforming data. It allows you to apply a function to every item in an iterable with minimal code, making it especially useful in data processing, cleaning, and functional programming tasks.\n",
        "\n",
        "---\n",
        "\n",
        "10.  What is the difference between `map()`, `reduce()`, and `filter()` functions in Python?\n",
        " - The functions map(), reduce(), and filter() in Python are built-in functions that belong to the concept of functional programming. They are used to process and transform data from iterables like lists or tuples, but each one serves a different purpose.\n",
        "  1. map( ) Function\n",
        "\n",
        "Purpose:\n",
        "Used to apply a function to each element of an iterable and return a new iterable with the results.\n",
        "\n",
        "Key Use:\n",
        "Transforms each item in the iterable.\n",
        "\n",
        "Example Use Case:\n",
        "Converting all strings in a list to uppercase, or multiplying each number in a list by 2.\n",
        "\n",
        "  2. filter( ) Function\n",
        "\n",
        "Purpose:\n",
        "Used to filter out elements from an iterable based on a condition. Only the items that return True for the given function are included.\n",
        "\n",
        "Key Use:\n",
        "Selects specific items that satisfy a condition.\n",
        "\n",
        "Example Use Case:\n",
        "Filtering out all even numbers from a list or selecting items with a value greater than 10.\n",
        "\n",
        "  3. reduce( ) Function\n",
        "\n",
        "Purpose:\n",
        "Used to perform a rolling computation on the elements of an iterable. It repeatedly applies a function to pairs of items, reducing the iterable to a single value.\n",
        "\n",
        "Key Use:\n",
        "Combines all items into one.\n",
        "\n",
        "Example Use Case:\n",
        "Calculating the sum, product, or maximum of all elements in a list.\n",
        "\n",
        "---\n",
        "11.  Using pen & Paper write the internal mechanism for sum operation using  reduce function on this given\n",
        "list:[47,11,42,13];\n",
        " (Attach paper image for this answer) in doc or colab notebook.\n",
        "\n"
      ],
      "metadata": {
        "id": "zWf3ag7oMVz6"
      }
    },
    {
      "cell_type": "markdown",
      "source": [
        "## Manual Trace of `reduce()` Function for Sum Operation\n",
        "\n",
        "### Given List: [47, 11, 42, 13]\n",
        "### Operation: Sum using `reduce()`\n",
        "\n",
        "Step-by-step working:\n",
        "\n",
        "- Step 1: 47 + 11 = 58  \n",
        "- Step 2: 58 + 42 = 100  \n",
        "- Step 3: 100 + 13 = 113  \n",
        "\n",
        "**Final Result = 113**\n",
        "\n",
        "\n"
      ],
      "metadata": {
        "id": "q9QwT44ff5Kg"
      }
    },
    {
      "cell_type": "markdown",
      "source": [
        "---\n",
        "# Practical Questions\n",
        "\n",
        "1.  Write a Python function that takes a list of numbers as input and returns the sum of all even numbers in\n",
        "the list."
      ],
      "metadata": {
        "id": "jG5uQcsTg_tZ"
      }
    },
    {
      "cell_type": "code",
      "source": [
        "def sum_of_even_numbers(numbers):\n",
        "    even_sum = 0\n",
        "    for num in numbers:\n",
        "        if num % 2 == 0:\n",
        "            even_sum += num\n",
        "    return even_sum\n",
        "\n",
        "my_list = [10, 15, 20, 25, 30]\n",
        "result = sum_of_even_numbers(my_list)\n",
        "print(\"Sum of even numbers:\", result)\n"
      ],
      "metadata": {
        "colab": {
          "base_uri": "https://localhost:8080/"
        },
        "id": "X6K1nQzVhN41",
        "outputId": "084b785f-24b0-40c5-8f8b-01b0567468dc"
      },
      "execution_count": 14,
      "outputs": [
        {
          "output_type": "stream",
          "name": "stdout",
          "text": [
            "Sum of even numbers: 60\n"
          ]
        }
      ]
    },
    {
      "cell_type": "markdown",
      "source": [
        "2. Create a Python function that accepts a string and returns the reverse of that string."
      ],
      "metadata": {
        "id": "8Tfhiu0QkEr-"
      }
    },
    {
      "cell_type": "code",
      "source": [
        "def reverse_string(text):\n",
        "    return text[::-1]\n",
        "result = reverse_string(\"Python\")\n",
        "print(\"Reversed string:\", result)\n"
      ],
      "metadata": {
        "id": "Krf7yXYKkLvv",
        "colab": {
          "base_uri": "https://localhost:8080/"
        },
        "outputId": "dbe8b7e3-e3b7-4122-cda6-0391cc911929"
      },
      "execution_count": 15,
      "outputs": [
        {
          "output_type": "stream",
          "name": "stdout",
          "text": [
            "Reversed string: nohtyP\n"
          ]
        }
      ]
    },
    {
      "cell_type": "markdown",
      "source": [
        "3. Implement a Python function that takes a list of integers and returns a new list containing the squares of\n",
        "each number."
      ],
      "metadata": {
        "id": "HQoDLCmXiZZc"
      }
    },
    {
      "cell_type": "code",
      "source": [
        "def square_list(numbers):\n",
        "    return [x**2 for x in numbers]\n",
        "nums = [1, 2, 3, 4]\n",
        "squared_nums = square_list(nums)\n",
        "print(squared_nums)\n"
      ],
      "metadata": {
        "colab": {
          "base_uri": "https://localhost:8080/"
        },
        "id": "EuTE3VUni1y4",
        "outputId": "00c001ee-36d2-40df-910e-a841bad0fedd"
      },
      "execution_count": 16,
      "outputs": [
        {
          "output_type": "stream",
          "name": "stdout",
          "text": [
            "[1, 4, 9, 16]\n"
          ]
        }
      ]
    },
    {
      "cell_type": "markdown",
      "source": [
        "4.  Write a Python function that checks if a given number is prime or not from 1 to 200."
      ],
      "metadata": {
        "id": "vroDFjgVjBXx"
      }
    },
    {
      "cell_type": "code",
      "source": [
        "def is_prime(number):\n",
        "    if number < 2 or number > 200:\n",
        "        return \"Please enter a number between 1 and 200.\"\n",
        "    for i in range(2, int(number**0.5) + 1):\n",
        "        if number % i == 0:\n",
        "            return False\n",
        "    return True\n",
        "\n",
        "print(is_prime(2))\n",
        "print(is_prime(10))\n",
        "print(is_prime(199))\n",
        "print(is_prime(205))\n"
      ],
      "metadata": {
        "colab": {
          "base_uri": "https://localhost:8080/"
        },
        "id": "8hEJGVFWhkJh",
        "outputId": "8ec3604e-c571-4069-8840-2472e24e2b06"
      },
      "execution_count": 17,
      "outputs": [
        {
          "output_type": "stream",
          "name": "stdout",
          "text": [
            "True\n",
            "False\n",
            "True\n",
            "Please enter a number between 1 and 200.\n"
          ]
        }
      ]
    },
    {
      "cell_type": "markdown",
      "source": [
        "5. Create an iterator class in Python that generates the Fibonacci sequence up to a specified number of terms."
      ],
      "metadata": {
        "id": "UlNTxiUih10D"
      }
    },
    {
      "cell_type": "code",
      "source": [
        "class FibonacciIterator:\n",
        "    def __init__(self, max_terms):\n",
        "        self.max_terms = max_terms\n",
        "        self.count = 0\n",
        "        self.a = 0\n",
        "        self.b = 1\n",
        "\n",
        "    def __iter__(self):\n",
        "        return self\n",
        "\n",
        "    def __next__(self):\n",
        "        if self.count >= self.max_terms:\n",
        "            raise StopIteration\n",
        "        if self.count == 0:\n",
        "            self.count += 1\n",
        "            return 0\n",
        "        elif self.count == 1:\n",
        "            self.count += 1\n",
        "            return 1\n",
        "        else:\n",
        "            next_val = self.a + self.b\n",
        "            self.a = self.b\n",
        "            self.b = next_val\n",
        "            self.count += 1\n",
        "            return next_val\n",
        "\n",
        "\n",
        "fib = FibonacciIterator(10)  # Generate first 10 terms\n",
        "\n",
        "for number in fib:\n",
        "    print(number)\n"
      ],
      "metadata": {
        "colab": {
          "base_uri": "https://localhost:8080/"
        },
        "id": "APAHYz1sh-vt",
        "outputId": "eba0b9a9-0413-42ef-8cca-095b8ff31551"
      },
      "execution_count": 18,
      "outputs": [
        {
          "output_type": "stream",
          "name": "stdout",
          "text": [
            "0\n",
            "1\n",
            "1\n",
            "2\n",
            "3\n",
            "5\n",
            "8\n",
            "13\n",
            "21\n",
            "34\n"
          ]
        }
      ]
    },
    {
      "cell_type": "markdown",
      "source": [
        "6. Write a generator function in Python that yields the powers of 2 up to a given exponent."
      ],
      "metadata": {
        "id": "AC4K3UqviLbb"
      }
    },
    {
      "cell_type": "code",
      "source": [
        "def powers_of_two(limit):\n",
        "    exponent = 0\n",
        "    while exponent <= limit:\n",
        "        yield 2 ** exponent\n",
        "        exponent += 1\n",
        "\n",
        "for power in powers_of_two(5):\n",
        "    print(power)\n"
      ],
      "metadata": {
        "colab": {
          "base_uri": "https://localhost:8080/"
        },
        "id": "6CuyMSOZiQSY",
        "outputId": "b94dc5f8-a4e8-4963-8664-8c4fded2e194"
      },
      "execution_count": 19,
      "outputs": [
        {
          "output_type": "stream",
          "name": "stdout",
          "text": [
            "1\n",
            "2\n",
            "4\n",
            "8\n",
            "16\n",
            "32\n"
          ]
        }
      ]
    },
    {
      "cell_type": "markdown",
      "source": [
        "7.  Implement a generator function that reads a file line by line and yields each line as a string."
      ],
      "metadata": {
        "id": "J2DBIVWcibIr"
      }
    },
    {
      "cell_type": "code",
      "source": [
        "def read_file_line_by_line(file_path):\n",
        "    \"\"\"\n",
        "    Generator function that reads a file line by line\n",
        "    and yields each line as a string.\n",
        "    \"\"\"\n",
        "    with open(file_path, 'r') as file:\n",
        "        for line in file:\n",
        "            yield line.strip()  # strip removes trailing newline and spaces\n",
        "\n",
        "# Create a sample file (only for testing)\n",
        "with open('sample.txt', 'w') as f:\n",
        "    f.write(\"Hello world\\n\")\n",
        "    f.write(\"This is a generator test\\n\")\n",
        "    f.write(\"Line by line\\n\")\n",
        "\n",
        "# Use the generator to read lines\n",
        "for line in read_file_line_by_line('sample.txt'):\n",
        "    print(line)\n"
      ],
      "metadata": {
        "colab": {
          "base_uri": "https://localhost:8080/"
        },
        "id": "wtUm-76oicqB",
        "outputId": "8a2865e9-cf95-40b6-d4e3-86355346354e"
      },
      "execution_count": 20,
      "outputs": [
        {
          "output_type": "stream",
          "name": "stdout",
          "text": [
            "Hello world\n",
            "This is a generator test\n",
            "Line by line\n"
          ]
        }
      ]
    },
    {
      "cell_type": "markdown",
      "source": [
        "8. Use a lambda function in Python to sort a list of tuples based on the second element of each tuple.\n",
        "\n"
      ],
      "metadata": {
        "id": "0rNIdciCjYh-"
      }
    },
    {
      "cell_type": "code",
      "source": [
        "# Sample list of tuples\n",
        "data = [(5, 2), (1, 9), (3, 4), (7, 1)]\n",
        "\n",
        "# Sort based on the second element of each tuple\n",
        "sorted_data = sorted(data, key=lambda x: x[1])\n",
        "\n",
        "# Display the result\n",
        "print(sorted_data)\n"
      ],
      "metadata": {
        "colab": {
          "base_uri": "https://localhost:8080/"
        },
        "id": "fOpqlsSkjnuX",
        "outputId": "6e3ad508-8607-433d-d53c-6ccddbdf2204"
      },
      "execution_count": 21,
      "outputs": [
        {
          "output_type": "stream",
          "name": "stdout",
          "text": [
            "[(7, 1), (5, 2), (3, 4), (1, 9)]\n"
          ]
        }
      ]
    },
    {
      "cell_type": "markdown",
      "source": [
        "9. Write a Python program that uses `map()` to convert a list of temperatures from Celsius to Fahrenheit."
      ],
      "metadata": {
        "id": "Kt6DSWAPjvJO"
      }
    },
    {
      "cell_type": "code",
      "source": [
        "# List of temperatures in Celsius\n",
        "celsius_temps = [0, 20, 37, 100]\n",
        "\n",
        "# Convert each Celsius temp to Fahrenheit using map() and a lambda function\n",
        "fahrenheit_temps = list(map(lambda c: (c * 9/5) + 32, celsius_temps))\n",
        "\n",
        "# Display the result\n",
        "print(\"Temperatures in Fahrenheit:\", fahrenheit_temps)\n"
      ],
      "metadata": {
        "colab": {
          "base_uri": "https://localhost:8080/"
        },
        "id": "UpfvfSk4jzGA",
        "outputId": "a4675850-09da-4a97-b948-a5a574894459"
      },
      "execution_count": 22,
      "outputs": [
        {
          "output_type": "stream",
          "name": "stdout",
          "text": [
            "Temperatures in Fahrenheit: [32.0, 68.0, 98.6, 212.0]\n"
          ]
        }
      ]
    },
    {
      "cell_type": "markdown",
      "source": [
        "10. Create a Python program that uses `filter()` to remove all the vowels from a given string."
      ],
      "metadata": {
        "id": "EHo0xQuWj9RH"
      }
    },
    {
      "cell_type": "code",
      "source": [
        "def remove_vowels(text):\n",
        "    vowels = 'aeiouAEIOU'\n",
        "    return ''.join(filter(lambda char: char not in vowels, text))\n",
        "\n",
        "# Example usage\n",
        "input_string = \"Hello, how are you?\"\n",
        "result = remove_vowels(input_string)\n",
        "\n",
        "print(\"Original string:\", input_string)\n",
        "print(\"String without vowels:\", result)\n"
      ],
      "metadata": {
        "colab": {
          "base_uri": "https://localhost:8080/"
        },
        "id": "yhT0C9RDkAnH",
        "outputId": "2683e7df-22fc-43a1-e562-da8e5ad429a4"
      },
      "execution_count": 23,
      "outputs": [
        {
          "output_type": "stream",
          "name": "stdout",
          "text": [
            "Original string: Hello, how are you?\n",
            "String without vowels: Hll, hw r y?\n"
          ]
        }
      ]
    },
    {
      "cell_type": "markdown",
      "source": [
        "11.  Imagine an accounting routine used in a book shop. It works on a list with sublists, which look like this:\n",
        "Write a Python program, which returns a list with 2-tuples. Each tuple consists of the order number and the\n",
        "product of the price per item and the quantity. The product should be increased by 10,- € if the value of the\n",
        "order is smaller than 100,00 €.\n",
        "\n",
        "Write a Python program using lambda and map."
      ],
      "metadata": {
        "id": "w526xbbCkHe6"
      }
    },
    {
      "cell_type": "code",
      "source": [
        "orders = [\n",
        "    [34587, \"Learning Python, Mark Lutz\", 4, 40.95],\n",
        "    [98762, \"Programming Python, Mark Lutz\", 5, 56.80],\n",
        "    [77226, \"Head First Python, Paul Barry\", 3, 32.95],\n",
        "    [88112, \"Einführung in Python3, Bernd Klein\", 3, 24.99]\n",
        "]\n",
        "\n",
        "# Sample data\n",
        "orders = [\n",
        "    [34587, \"Learning Python, Mark Lutz\", 4, 40.95],\n",
        "    [98762, \"Programming Python, Mark Lutz\", 5, 56.80],\n",
        "    [77226, \"Head First Python, Paul Barry\", 3, 32.95],\n",
        "    [88112, \"Einführung in Python3, Bernd Klein\", 3, 24.99]\n",
        "]\n",
        "\n",
        "# Calculate total using lambda and map\n",
        "final_billing = list(map(\n",
        "    lambda order: (order[0], round(order[2] * order[3] + (10 if order[2] * order[3] < 100 else 0), 2)),\n",
        "    orders\n",
        "))\n",
        "\n",
        "# Output result\n",
        "print(final_billing)\n"
      ],
      "metadata": {
        "colab": {
          "base_uri": "https://localhost:8080/"
        },
        "id": "a7eCgC6Vmehn",
        "outputId": "6febc7b4-0ed1-403c-d5cf-ec844012301a"
      },
      "execution_count": 24,
      "outputs": [
        {
          "output_type": "stream",
          "name": "stdout",
          "text": [
            "[(34587, 163.8), (98762, 284.0), (77226, 108.85), (88112, 84.97)]\n"
          ]
        }
      ]
    }
  ]
}